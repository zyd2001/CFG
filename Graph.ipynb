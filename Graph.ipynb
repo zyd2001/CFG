{
 "cells": [
  {
   "cell_type": "code",
   "execution_count": 1,
   "id": "cb975e17-ccef-4b27-b8bf-acb920c9d30b",
   "metadata": {},
   "outputs": [],
   "source": [
    "import networkx as nx\n",
    "import matplotlib.pyplot as plt\n",
    "from networkx.drawing.nx_pydot import graphviz_layout\n",
    "import re\n",
    "from ShowGraph import view\n",
    "\n",
    "G = nx.DiGraph(nx.nx_pydot.read_dot(\"test.dot\"))\n",
    "pattern = re.compile('bb\\.(\\d+)\\..+:\\\\\\\\l')\n",
    "mapping = {}\n",
    "for n in G.nodes:\n",
    "    mapping[n] = int(pattern.findall(G.nodes[n]['label'])[0])\n",
    "    G.nodes[n].clear()\n",
    "\n",
    "G = nx.relabel_nodes(G, mapping)"
   ]
  },
  {
   "cell_type": "code",
   "execution_count": 2,
   "id": "48d8741a-9a0b-4ff3-8e34-bbb958d1f480",
   "metadata": {},
   "outputs": [],
   "source": [
    "view(G)\n"
   ]
  },
  {
   "cell_type": "code",
   "execution_count": 3,
   "id": "394781be",
   "metadata": {},
   "outputs": [],
   "source": [
    "G = G.reverse()\n",
    "view(G, 'post')"
   ]
  },
  {
   "cell_type": "code",
   "execution_count": 4,
   "id": "be3208e4-dad1-4d45-b31c-16bfe38381bc",
   "metadata": {},
   "outputs": [],
   "source": [
    "dom_set = nx.immediate_dominators(G, 8)\n",
    "e = []\n",
    "for a,b in dom_set.items():\n",
    "    if a != b:\n",
    "        e.append((a,b))\n",
    "\n",
    "dom = nx.DiGraph(e).reverse()\n",
    "view(dom, 'dom')"
   ]
  },
  {
   "cell_type": "code",
   "execution_count": 5,
   "id": "46c31ec3-d994-4689-b577-636f55d5df6c",
   "metadata": {},
   "outputs": [
    {
     "name": "stdout",
     "output_type": "stream",
     "text": [
      "{8: set(), 4: {2, 4}, 7: {6}, 6: {12}, 12: {2, 4}, 11: {2, 4}, 5: {2, 4}, 3: {2}, 2: set(), 10: {0}, 9: {0}, 1: {0}, 0: set()}\n"
     ]
    }
   ],
   "source": [
    "frontier = nx.dominance_frontiers(G, 8)\n",
    "print(frontier)"
   ]
  },
  {
   "cell_type": "code",
   "execution_count": 6,
   "id": "cc6b51c4-2dcd-4466-b8a5-99562309d236",
   "metadata": {},
   "outputs": [
    {
     "data": {
      "text/plain": [
       "{2, 4, 6, 12}"
      ]
     },
     "execution_count": 6,
     "metadata": {},
     "output_type": "execute_result"
    },
    {
     "name": "stderr",
     "output_type": "stream",
     "text": [
      "\n",
      "** (xdot:25004): WARNING **: 16:27:30.536: Couldn't connect to D-Bus system bus, Could not connect: No such file or directory\n"
     ]
    }
   ],
   "source": [
    "import IDF\n",
    "IDF.IDF(set([7]), frontier)"
   ]
  }
 ],
 "metadata": {
  "kernelspec": {
   "display_name": "Python 3 (ipykernel)",
   "language": "python",
   "name": "python3"
  },
  "language_info": {
   "codemirror_mode": {
    "name": "ipython",
    "version": 3
   },
   "file_extension": ".py",
   "mimetype": "text/x-python",
   "name": "python",
   "nbconvert_exporter": "python",
   "pygments_lexer": "ipython3",
   "version": "3.10.12"
  }
 },
 "nbformat": 4,
 "nbformat_minor": 5
}
